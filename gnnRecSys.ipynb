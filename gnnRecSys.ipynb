{
 "cells": [
  {
   "cell_type": "code",
   "execution_count": 1,
   "id": "600f1591-260e-4bac-8d3c-fa40e12e2e81",
   "metadata": {},
   "outputs": [],
   "source": [
    "import matplotlib.pyplot as plt\n",
    "import numpy as np\n",
    "import pandas as pd\n",
    "import seaborn as sns\n",
    "import torch.nn as nn\n",
    "import torch\n",
    "import torch.optim as optim\n",
    "from torch_geometric.data import Data\n",
    "from torch_geometric.nn import GCNConv\n",
    "from tqdm.notebook import trange\n",
    "from sklearn.model_selection import train_test_split"
   ]
  },
  {
   "cell_type": "markdown",
   "id": "e420da7f-74be-4391-8715-e82221b34f45",
   "metadata": {},
   "source": [
    "## EDA and Data Cleaning\n"
   ]
  },
  {
   "cell_type": "markdown",
   "id": "c78cd90e-bed5-47d4-982a-e342d13a1933",
   "metadata": {},
   "source": [
    "You can load data bu this link: https://www.kaggle.com/datasets/rounakbanik/the-movies-dataset"
   ]
  },
  {
   "cell_type": "code",
   "execution_count": 2,
   "id": "d66adf2c-f3ac-4adc-b83b-6106815a7adf",
   "metadata": {},
   "outputs": [
    {
     "data": {
      "text/html": [
       "<div>\n",
       "<style scoped>\n",
       "    .dataframe tbody tr th:only-of-type {\n",
       "        vertical-align: middle;\n",
       "    }\n",
       "\n",
       "    .dataframe tbody tr th {\n",
       "        vertical-align: top;\n",
       "    }\n",
       "\n",
       "    .dataframe thead th {\n",
       "        text-align: right;\n",
       "    }\n",
       "</style>\n",
       "<table border=\"1\" class=\"dataframe\">\n",
       "  <thead>\n",
       "    <tr style=\"text-align: right;\">\n",
       "      <th></th>\n",
       "      <th>userId</th>\n",
       "      <th>movieId</th>\n",
       "      <th>rating</th>\n",
       "      <th>timestamp</th>\n",
       "    </tr>\n",
       "  </thead>\n",
       "  <tbody>\n",
       "    <tr>\n",
       "      <th>0</th>\n",
       "      <td>1</td>\n",
       "      <td>31</td>\n",
       "      <td>2.5</td>\n",
       "      <td>1260759144</td>\n",
       "    </tr>\n",
       "    <tr>\n",
       "      <th>1</th>\n",
       "      <td>1</td>\n",
       "      <td>1029</td>\n",
       "      <td>3.0</td>\n",
       "      <td>1260759179</td>\n",
       "    </tr>\n",
       "    <tr>\n",
       "      <th>2</th>\n",
       "      <td>1</td>\n",
       "      <td>1061</td>\n",
       "      <td>3.0</td>\n",
       "      <td>1260759182</td>\n",
       "    </tr>\n",
       "    <tr>\n",
       "      <th>3</th>\n",
       "      <td>1</td>\n",
       "      <td>1129</td>\n",
       "      <td>2.0</td>\n",
       "      <td>1260759185</td>\n",
       "    </tr>\n",
       "    <tr>\n",
       "      <th>4</th>\n",
       "      <td>1</td>\n",
       "      <td>1172</td>\n",
       "      <td>4.0</td>\n",
       "      <td>1260759205</td>\n",
       "    </tr>\n",
       "    <tr>\n",
       "      <th>...</th>\n",
       "      <td>...</td>\n",
       "      <td>...</td>\n",
       "      <td>...</td>\n",
       "      <td>...</td>\n",
       "    </tr>\n",
       "    <tr>\n",
       "      <th>99999</th>\n",
       "      <td>671</td>\n",
       "      <td>6268</td>\n",
       "      <td>2.5</td>\n",
       "      <td>1065579370</td>\n",
       "    </tr>\n",
       "    <tr>\n",
       "      <th>100000</th>\n",
       "      <td>671</td>\n",
       "      <td>6269</td>\n",
       "      <td>4.0</td>\n",
       "      <td>1065149201</td>\n",
       "    </tr>\n",
       "    <tr>\n",
       "      <th>100001</th>\n",
       "      <td>671</td>\n",
       "      <td>6365</td>\n",
       "      <td>4.0</td>\n",
       "      <td>1070940363</td>\n",
       "    </tr>\n",
       "    <tr>\n",
       "      <th>100002</th>\n",
       "      <td>671</td>\n",
       "      <td>6385</td>\n",
       "      <td>2.5</td>\n",
       "      <td>1070979663</td>\n",
       "    </tr>\n",
       "    <tr>\n",
       "      <th>100003</th>\n",
       "      <td>671</td>\n",
       "      <td>6565</td>\n",
       "      <td>3.5</td>\n",
       "      <td>1074784724</td>\n",
       "    </tr>\n",
       "  </tbody>\n",
       "</table>\n",
       "<p>100004 rows × 4 columns</p>\n",
       "</div>"
      ],
      "text/plain": [
       "        userId  movieId  rating   timestamp\n",
       "0            1       31     2.5  1260759144\n",
       "1            1     1029     3.0  1260759179\n",
       "2            1     1061     3.0  1260759182\n",
       "3            1     1129     2.0  1260759185\n",
       "4            1     1172     4.0  1260759205\n",
       "...        ...      ...     ...         ...\n",
       "99999      671     6268     2.5  1065579370\n",
       "100000     671     6269     4.0  1065149201\n",
       "100001     671     6365     4.0  1070940363\n",
       "100002     671     6385     2.5  1070979663\n",
       "100003     671     6565     3.5  1074784724\n",
       "\n",
       "[100004 rows x 4 columns]"
      ]
     },
     "execution_count": 2,
     "metadata": {},
     "output_type": "execute_result"
    }
   ],
   "source": [
    "data = pd.read_csv(r'C:\\EMOJI\\ratings_small.csv')\n",
    "data"
   ]
  },
  {
   "cell_type": "code",
   "execution_count": 3,
   "id": "40f7840f-a063-46e3-8d83-0535dc10da2e",
   "metadata": {},
   "outputs": [
    {
     "data": {
      "text/plain": [
       "9066"
      ]
     },
     "execution_count": 3,
     "metadata": {},
     "output_type": "execute_result"
    }
   ],
   "source": [
    "data.movieId.nunique()"
   ]
  },
  {
   "cell_type": "code",
   "execution_count": 4,
   "id": "ab85003e-752e-4109-91c8-f7734b37db09",
   "metadata": {},
   "outputs": [
    {
     "data": {
      "image/png": "[encoded data removed]",
      "text/plain": [
       "<Figure size 640x480 with 1 Axes>"
      ]
     },
     "metadata": {},
     "output_type": "display_data"
    }
   ],
   "source": [
    "movie_counts = data.groupby(\"movieId\").count()[\"userId\"]\n",
    "filtered_movies = movie_counts[movie_counts >= 5]\n",
    "\n",
    "filtered_movies.hist(bins=30)\n",
    "plt.xlabel('Количество просмотров')\n",
    "plt.ylabel('Число фильмов')\n",
    "plt.xlim(0, 40)\n",
    "plt.title('Распределение просмотров по фильмам (без выбросов)')\n",
    "plt.show()"
   ]
  },
  {
   "cell_type": "markdown",
   "id": "e85d91dd-aa1c-4b40-97a8-c535decb5e9a",
   "metadata": {},
   "source": [
    "Возьмем небольшую подвыборку фильмов, которые смотрят чаще всего"
   ]
  },
  {
   "cell_type": "code",
   "execution_count": 5,
   "id": "ea2fb9da-0693-4976-98c8-314d5a26e8f7",
   "metadata": {},
   "outputs": [
    {
     "data": {
      "text/html": [
       "<div>\n",
       "<style scoped>\n",
       "    .dataframe tbody tr th:only-of-type {\n",
       "        vertical-align: middle;\n",
       "    }\n",
       "\n",
       "    .dataframe tbody tr th {\n",
       "        vertical-align: top;\n",
       "    }\n",
       "\n",
       "    .dataframe thead th {\n",
       "        text-align: right;\n",
       "    }\n",
       "</style>\n",
       "<table border=\"1\" class=\"dataframe\">\n",
       "  <thead>\n",
       "    <tr style=\"text-align: right;\">\n",
       "      <th></th>\n",
       "      <th>userId</th>\n",
       "      <th>movieId</th>\n",
       "      <th>rating</th>\n",
       "      <th>timestamp</th>\n",
       "    </tr>\n",
       "  </thead>\n",
       "  <tbody>\n",
       "    <tr>\n",
       "      <th>0</th>\n",
       "      <td>1</td>\n",
       "      <td>31</td>\n",
       "      <td>2.5</td>\n",
       "      <td>1260759144</td>\n",
       "    </tr>\n",
       "    <tr>\n",
       "      <th>1</th>\n",
       "      <td>1</td>\n",
       "      <td>1029</td>\n",
       "      <td>3.0</td>\n",
       "      <td>1260759179</td>\n",
       "    </tr>\n",
       "    <tr>\n",
       "      <th>2</th>\n",
       "      <td>1</td>\n",
       "      <td>1061</td>\n",
       "      <td>3.0</td>\n",
       "      <td>1260759182</td>\n",
       "    </tr>\n",
       "    <tr>\n",
       "      <th>3</th>\n",
       "      <td>1</td>\n",
       "      <td>1129</td>\n",
       "      <td>2.0</td>\n",
       "      <td>1260759185</td>\n",
       "    </tr>\n",
       "    <tr>\n",
       "      <th>4</th>\n",
       "      <td>1</td>\n",
       "      <td>1172</td>\n",
       "      <td>4.0</td>\n",
       "      <td>1260759205</td>\n",
       "    </tr>\n",
       "    <tr>\n",
       "      <th>...</th>\n",
       "      <td>...</td>\n",
       "      <td>...</td>\n",
       "      <td>...</td>\n",
       "      <td>...</td>\n",
       "    </tr>\n",
       "    <tr>\n",
       "      <th>99995</th>\n",
       "      <td>671</td>\n",
       "      <td>5989</td>\n",
       "      <td>4.0</td>\n",
       "      <td>1064890625</td>\n",
       "    </tr>\n",
       "    <tr>\n",
       "      <th>99996</th>\n",
       "      <td>671</td>\n",
       "      <td>5991</td>\n",
       "      <td>4.5</td>\n",
       "      <td>1064245387</td>\n",
       "    </tr>\n",
       "    <tr>\n",
       "      <th>99997</th>\n",
       "      <td>671</td>\n",
       "      <td>5995</td>\n",
       "      <td>4.0</td>\n",
       "      <td>1066793014</td>\n",
       "    </tr>\n",
       "    <tr>\n",
       "      <th>100001</th>\n",
       "      <td>671</td>\n",
       "      <td>6365</td>\n",
       "      <td>4.0</td>\n",
       "      <td>1070940363</td>\n",
       "    </tr>\n",
       "    <tr>\n",
       "      <th>100003</th>\n",
       "      <td>671</td>\n",
       "      <td>6565</td>\n",
       "      <td>3.5</td>\n",
       "      <td>1074784724</td>\n",
       "    </tr>\n",
       "  </tbody>\n",
       "</table>\n",
       "<p>63122 rows × 4 columns</p>\n",
       "</div>"
      ],
      "text/plain": [
       "        userId  movieId  rating   timestamp\n",
       "0            1       31     2.5  1260759144\n",
       "1            1     1029     3.0  1260759179\n",
       "2            1     1061     3.0  1260759182\n",
       "3            1     1129     2.0  1260759185\n",
       "4            1     1172     4.0  1260759205\n",
       "...        ...      ...     ...         ...\n",
       "99995      671     5989     4.0  1064890625\n",
       "99996      671     5991     4.5  1064245387\n",
       "99997      671     5995     4.0  1066793014\n",
       "100001     671     6365     4.0  1070940363\n",
       "100003     671     6565     3.5  1074784724\n",
       "\n",
       "[63122 rows x 4 columns]"
      ]
     },
     "execution_count": 5,
     "metadata": {},
     "output_type": "execute_result"
    }
   ],
   "source": [
    "movie_counts = data.groupby(\"movieId\").count()[\"userId\"]\n",
    "valid_movie_ids = movie_counts[movie_counts >= 25].index\n",
    "filtered_data = data[data[\"movieId\"].isin(valid_movie_ids)]\n",
    "filtered_data"
   ]
  },
  {
   "cell_type": "code",
   "execution_count": 6,
   "id": "7e1de22f-4c11-4357-9213-b33f2ff1a407",
   "metadata": {},
   "outputs": [
    {
     "data": {
      "image/png": "[encoded data removed]",
      "text/plain": [
       "<Figure size 640x480 with 1 Axes>"
      ]
     },
     "metadata": {},
     "output_type": "display_data"
    }
   ],
   "source": [
    "movie_counts = filtered_data.groupby(\"movieId\").count()[\"userId\"]\n",
    "filtered_movies = movie_counts[movie_counts >= 5]\n",
    "\n",
    "filtered_movies.hist(bins=30)\n",
    "plt.xlabel('Количество просмотров')\n",
    "plt.ylabel('Число фильмов')\n",
    "plt.title('Распределение просмотров по фильмам (без выбросов)')\n",
    "plt.show()"
   ]
  },
  {
   "cell_type": "code",
   "execution_count": 7,
   "id": "a5265dce-e16b-4b1d-8026-d2061e570c21",
   "metadata": {},
   "outputs": [
    {
     "data": {
      "text/plain": [
       "1029"
      ]
     },
     "execution_count": 7,
     "metadata": {},
     "output_type": "execute_result"
    }
   ],
   "source": [
    "filtered_data.movieId.nunique()"
   ]
  },
  {
   "cell_type": "markdown",
   "id": "739a4eb8-346b-4ca0-92ca-8774fe7a9559",
   "metadata": {},
   "source": [
    "## Подготовка данных для обучения"
   ]
  },
  {
   "cell_type": "code",
   "execution_count": 8,
   "id": "2914f386-d670-4c9b-8b71-42b20452e8ec",
   "metadata": {},
   "outputs": [
    {
     "data": {
      "text/html": [
       "<div>\n",
       "<style scoped>\n",
       "    .dataframe tbody tr th:only-of-type {\n",
       "        vertical-align: middle;\n",
       "    }\n",
       "\n",
       "    .dataframe tbody tr th {\n",
       "        vertical-align: top;\n",
       "    }\n",
       "\n",
       "    .dataframe thead th {\n",
       "        text-align: right;\n",
       "    }\n",
       "</style>\n",
       "<table border=\"1\" class=\"dataframe\">\n",
       "  <thead>\n",
       "    <tr style=\"text-align: right;\">\n",
       "      <th>userId</th>\n",
       "      <th>1</th>\n",
       "      <th>2</th>\n",
       "      <th>3</th>\n",
       "      <th>4</th>\n",
       "      <th>5</th>\n",
       "      <th>6</th>\n",
       "      <th>7</th>\n",
       "      <th>8</th>\n",
       "      <th>9</th>\n",
       "      <th>10</th>\n",
       "      <th>...</th>\n",
       "      <th>662</th>\n",
       "      <th>663</th>\n",
       "      <th>664</th>\n",
       "      <th>665</th>\n",
       "      <th>666</th>\n",
       "      <th>667</th>\n",
       "      <th>668</th>\n",
       "      <th>669</th>\n",
       "      <th>670</th>\n",
       "      <th>671</th>\n",
       "    </tr>\n",
       "    <tr>\n",
       "      <th>movieId</th>\n",
       "      <th></th>\n",
       "      <th></th>\n",
       "      <th></th>\n",
       "      <th></th>\n",
       "      <th></th>\n",
       "      <th></th>\n",
       "      <th></th>\n",
       "      <th></th>\n",
       "      <th></th>\n",
       "      <th></th>\n",
       "      <th></th>\n",
       "      <th></th>\n",
       "      <th></th>\n",
       "      <th></th>\n",
       "      <th></th>\n",
       "      <th></th>\n",
       "      <th></th>\n",
       "      <th></th>\n",
       "      <th></th>\n",
       "      <th></th>\n",
       "      <th></th>\n",
       "    </tr>\n",
       "  </thead>\n",
       "  <tbody>\n",
       "    <tr>\n",
       "      <th>1</th>\n",
       "      <td>0.0</td>\n",
       "      <td>0.0</td>\n",
       "      <td>0.0</td>\n",
       "      <td>0.0</td>\n",
       "      <td>0.0</td>\n",
       "      <td>0.0</td>\n",
       "      <td>3.0</td>\n",
       "      <td>0.0</td>\n",
       "      <td>4.0</td>\n",
       "      <td>0.0</td>\n",
       "      <td>...</td>\n",
       "      <td>0.0</td>\n",
       "      <td>4.0</td>\n",
       "      <td>3.5</td>\n",
       "      <td>0.0</td>\n",
       "      <td>0.0</td>\n",
       "      <td>0.0</td>\n",
       "      <td>0.0</td>\n",
       "      <td>0.0</td>\n",
       "      <td>4.0</td>\n",
       "      <td>5.0</td>\n",
       "    </tr>\n",
       "    <tr>\n",
       "      <th>2</th>\n",
       "      <td>0.0</td>\n",
       "      <td>0.0</td>\n",
       "      <td>0.0</td>\n",
       "      <td>0.0</td>\n",
       "      <td>0.0</td>\n",
       "      <td>0.0</td>\n",
       "      <td>0.0</td>\n",
       "      <td>0.0</td>\n",
       "      <td>0.0</td>\n",
       "      <td>0.0</td>\n",
       "      <td>...</td>\n",
       "      <td>5.0</td>\n",
       "      <td>0.0</td>\n",
       "      <td>0.0</td>\n",
       "      <td>3.0</td>\n",
       "      <td>0.0</td>\n",
       "      <td>0.0</td>\n",
       "      <td>0.0</td>\n",
       "      <td>0.0</td>\n",
       "      <td>0.0</td>\n",
       "      <td>0.0</td>\n",
       "    </tr>\n",
       "    <tr>\n",
       "      <th>3</th>\n",
       "      <td>0.0</td>\n",
       "      <td>0.0</td>\n",
       "      <td>0.0</td>\n",
       "      <td>0.0</td>\n",
       "      <td>4.0</td>\n",
       "      <td>0.0</td>\n",
       "      <td>0.0</td>\n",
       "      <td>0.0</td>\n",
       "      <td>0.0</td>\n",
       "      <td>0.0</td>\n",
       "      <td>...</td>\n",
       "      <td>0.0</td>\n",
       "      <td>0.0</td>\n",
       "      <td>0.0</td>\n",
       "      <td>3.0</td>\n",
       "      <td>0.0</td>\n",
       "      <td>0.0</td>\n",
       "      <td>0.0</td>\n",
       "      <td>0.0</td>\n",
       "      <td>0.0</td>\n",
       "      <td>0.0</td>\n",
       "    </tr>\n",
       "    <tr>\n",
       "      <th>5</th>\n",
       "      <td>0.0</td>\n",
       "      <td>0.0</td>\n",
       "      <td>0.0</td>\n",
       "      <td>0.0</td>\n",
       "      <td>0.0</td>\n",
       "      <td>0.0</td>\n",
       "      <td>0.0</td>\n",
       "      <td>0.0</td>\n",
       "      <td>0.0</td>\n",
       "      <td>0.0</td>\n",
       "      <td>...</td>\n",
       "      <td>0.0</td>\n",
       "      <td>0.0</td>\n",
       "      <td>0.0</td>\n",
       "      <td>3.0</td>\n",
       "      <td>0.0</td>\n",
       "      <td>0.0</td>\n",
       "      <td>0.0</td>\n",
       "      <td>0.0</td>\n",
       "      <td>0.0</td>\n",
       "      <td>0.0</td>\n",
       "    </tr>\n",
       "    <tr>\n",
       "      <th>6</th>\n",
       "      <td>0.0</td>\n",
       "      <td>0.0</td>\n",
       "      <td>0.0</td>\n",
       "      <td>0.0</td>\n",
       "      <td>0.0</td>\n",
       "      <td>0.0</td>\n",
       "      <td>0.0</td>\n",
       "      <td>0.0</td>\n",
       "      <td>0.0</td>\n",
       "      <td>0.0</td>\n",
       "      <td>...</td>\n",
       "      <td>0.0</td>\n",
       "      <td>0.0</td>\n",
       "      <td>4.0</td>\n",
       "      <td>0.0</td>\n",
       "      <td>5.0</td>\n",
       "      <td>4.0</td>\n",
       "      <td>0.0</td>\n",
       "      <td>0.0</td>\n",
       "      <td>0.0</td>\n",
       "      <td>0.0</td>\n",
       "    </tr>\n",
       "    <tr>\n",
       "      <th>...</th>\n",
       "      <td>...</td>\n",
       "      <td>...</td>\n",
       "      <td>...</td>\n",
       "      <td>...</td>\n",
       "      <td>...</td>\n",
       "      <td>...</td>\n",
       "      <td>...</td>\n",
       "      <td>...</td>\n",
       "      <td>...</td>\n",
       "      <td>...</td>\n",
       "      <td>...</td>\n",
       "      <td>...</td>\n",
       "      <td>...</td>\n",
       "      <td>...</td>\n",
       "      <td>...</td>\n",
       "      <td>...</td>\n",
       "      <td>...</td>\n",
       "      <td>...</td>\n",
       "      <td>...</td>\n",
       "      <td>...</td>\n",
       "      <td>...</td>\n",
       "    </tr>\n",
       "    <tr>\n",
       "      <th>115713</th>\n",
       "      <td>0.0</td>\n",
       "      <td>0.0</td>\n",
       "      <td>0.0</td>\n",
       "      <td>0.0</td>\n",
       "      <td>0.0</td>\n",
       "      <td>0.0</td>\n",
       "      <td>0.0</td>\n",
       "      <td>0.0</td>\n",
       "      <td>0.0</td>\n",
       "      <td>0.0</td>\n",
       "      <td>...</td>\n",
       "      <td>0.0</td>\n",
       "      <td>0.0</td>\n",
       "      <td>4.0</td>\n",
       "      <td>0.0</td>\n",
       "      <td>0.0</td>\n",
       "      <td>0.0</td>\n",
       "      <td>0.0</td>\n",
       "      <td>0.0</td>\n",
       "      <td>0.0</td>\n",
       "      <td>0.0</td>\n",
       "    </tr>\n",
       "    <tr>\n",
       "      <th>116797</th>\n",
       "      <td>0.0</td>\n",
       "      <td>0.0</td>\n",
       "      <td>0.0</td>\n",
       "      <td>0.0</td>\n",
       "      <td>0.0</td>\n",
       "      <td>0.0</td>\n",
       "      <td>0.0</td>\n",
       "      <td>0.0</td>\n",
       "      <td>0.0</td>\n",
       "      <td>0.0</td>\n",
       "      <td>...</td>\n",
       "      <td>0.0</td>\n",
       "      <td>0.0</td>\n",
       "      <td>4.0</td>\n",
       "      <td>0.0</td>\n",
       "      <td>0.0</td>\n",
       "      <td>0.0</td>\n",
       "      <td>0.0</td>\n",
       "      <td>0.0</td>\n",
       "      <td>0.0</td>\n",
       "      <td>0.0</td>\n",
       "    </tr>\n",
       "    <tr>\n",
       "      <th>122882</th>\n",
       "      <td>0.0</td>\n",
       "      <td>0.0</td>\n",
       "      <td>0.0</td>\n",
       "      <td>0.0</td>\n",
       "      <td>0.0</td>\n",
       "      <td>0.0</td>\n",
       "      <td>0.0</td>\n",
       "      <td>0.0</td>\n",
       "      <td>0.0</td>\n",
       "      <td>0.0</td>\n",
       "      <td>...</td>\n",
       "      <td>0.0</td>\n",
       "      <td>4.0</td>\n",
       "      <td>4.0</td>\n",
       "      <td>0.0</td>\n",
       "      <td>0.0</td>\n",
       "      <td>0.0</td>\n",
       "      <td>0.0</td>\n",
       "      <td>0.0</td>\n",
       "      <td>0.0</td>\n",
       "      <td>0.0</td>\n",
       "    </tr>\n",
       "    <tr>\n",
       "      <th>122886</th>\n",
       "      <td>0.0</td>\n",
       "      <td>0.0</td>\n",
       "      <td>0.0</td>\n",
       "      <td>0.0</td>\n",
       "      <td>0.0</td>\n",
       "      <td>0.0</td>\n",
       "      <td>0.0</td>\n",
       "      <td>0.0</td>\n",
       "      <td>0.0</td>\n",
       "      <td>0.0</td>\n",
       "      <td>...</td>\n",
       "      <td>0.0</td>\n",
       "      <td>0.0</td>\n",
       "      <td>0.0</td>\n",
       "      <td>0.0</td>\n",
       "      <td>0.0</td>\n",
       "      <td>0.0</td>\n",
       "      <td>0.0</td>\n",
       "      <td>0.0</td>\n",
       "      <td>0.0</td>\n",
       "      <td>0.0</td>\n",
       "    </tr>\n",
       "    <tr>\n",
       "      <th>134130</th>\n",
       "      <td>0.0</td>\n",
       "      <td>0.0</td>\n",
       "      <td>0.0</td>\n",
       "      <td>0.0</td>\n",
       "      <td>0.0</td>\n",
       "      <td>0.0</td>\n",
       "      <td>0.0</td>\n",
       "      <td>0.0</td>\n",
       "      <td>0.0</td>\n",
       "      <td>0.0</td>\n",
       "      <td>...</td>\n",
       "      <td>0.0</td>\n",
       "      <td>0.0</td>\n",
       "      <td>0.0</td>\n",
       "      <td>0.0</td>\n",
       "      <td>0.0</td>\n",
       "      <td>0.0</td>\n",
       "      <td>0.0</td>\n",
       "      <td>0.0</td>\n",
       "      <td>0.0</td>\n",
       "      <td>0.0</td>\n",
       "    </tr>\n",
       "  </tbody>\n",
       "</table>\n",
       "<p>1029 rows × 671 columns</p>\n",
       "</div>"
      ],
      "text/plain": [
       "userId   1    2    3    4    5    6    7    8    9    10   ...  662  663  664  \\\n",
       "movieId                                                    ...                  \n",
       "1        0.0  0.0  0.0  0.0  0.0  0.0  3.0  0.0  4.0  0.0  ...  0.0  4.0  3.5   \n",
       "2        0.0  0.0  0.0  0.0  0.0  0.0  0.0  0.0  0.0  0.0  ...  5.0  0.0  0.0   \n",
       "3        0.0  0.0  0.0  0.0  4.0  0.0  0.0  0.0  0.0  0.0  ...  0.0  0.0  0.0   \n",
       "5        0.0  0.0  0.0  0.0  0.0  0.0  0.0  0.0  0.0  0.0  ...  0.0  0.0  0.0   \n",
       "6        0.0  0.0  0.0  0.0  0.0  0.0  0.0  0.0  0.0  0.0  ...  0.0  0.0  4.0   \n",
       "...      ...  ...  ...  ...  ...  ...  ...  ...  ...  ...  ...  ...  ...  ...   \n",
       "115713   0.0  0.0  0.0  0.0  0.0  0.0  0.0  0.0  0.0  0.0  ...  0.0  0.0  4.0   \n",
       "116797   0.0  0.0  0.0  0.0  0.0  0.0  0.0  0.0  0.0  0.0  ...  0.0  0.0  4.0   \n",
       "122882   0.0  0.0  0.0  0.0  0.0  0.0  0.0  0.0  0.0  0.0  ...  0.0  4.0  4.0   \n",
       "122886   0.0  0.0  0.0  0.0  0.0  0.0  0.0  0.0  0.0  0.0  ...  0.0  0.0  0.0   \n",
       "134130   0.0  0.0  0.0  0.0  0.0  0.0  0.0  0.0  0.0  0.0  ...  0.0  0.0  0.0   \n",
       "\n",
       "userId   665  666  667  668  669  670  671  \n",
       "movieId                                     \n",
       "1        0.0  0.0  0.0  0.0  0.0  4.0  5.0  \n",
       "2        3.0  0.0  0.0  0.0  0.0  0.0  0.0  \n",
       "3        3.0  0.0  0.0  0.0  0.0  0.0  0.0  \n",
       "5        3.0  0.0  0.0  0.0  0.0  0.0  0.0  \n",
       "6        0.0  5.0  4.0  0.0  0.0  0.0  0.0  \n",
       "...      ...  ...  ...  ...  ...  ...  ...  \n",
       "115713   0.0  0.0  0.0  0.0  0.0  0.0  0.0  \n",
       "116797   0.0  0.0  0.0  0.0  0.0  0.0  0.0  \n",
       "122882   0.0  0.0  0.0  0.0  0.0  0.0  0.0  \n",
       "122886   0.0  0.0  0.0  0.0  0.0  0.0  0.0  \n",
       "134130   0.0  0.0  0.0  0.0  0.0  0.0  0.0  \n",
       "\n",
       "[1029 rows x 671 columns]"
      ]
     },
     "execution_count": 8,
     "metadata": {},
     "output_type": "execute_result"
    }
   ],
   "source": [
    "data_matrix = filtered_data.pivot(index='movieId', columns ='userId', values ='rating').fillna(0)\n",
    "data_matrix"
   ]
  },
  {
   "cell_type": "code",
   "execution_count": 9,
   "id": "e956c7af-caad-43d8-a4ec-9e39972cf919",
   "metadata": {},
   "outputs": [],
   "source": [
    "interactions_count = data_matrix.astype(\"bool\").sum().sum()"
   ]
  },
  {
   "cell_type": "code",
   "execution_count": 10,
   "id": "a40a2298-8916-4e9a-a4e1-c1761212d14c",
   "metadata": {},
   "outputs": [
    {
     "data": {
      "text/plain": [
       "torch.Size([1700, 1029])"
      ]
     },
     "execution_count": 10,
     "metadata": {},
     "output_type": "execute_result"
    }
   ],
   "source": [
    "X = torch.zeros(len(data_matrix.index)+len(data_matrix.columns), len(data_matrix.index))\n",
    "Y = torch.zeros(interactions_count)\n",
    "pad = torch.zeros(len(data_matrix.index)-len(data_matrix.columns))\n",
    "edge_index = torch.zeros(2*interactions_count, 2)\n",
    "k =0\n",
    "for i in range(len(data_matrix.columns)):\n",
    "    X[k] = torch.tensor(data_matrix.iloc[:, i].values)\n",
    "    k+=1\n",
    "for j in range(len(data_matrix.index)):\n",
    "    X[k] = torch.cat((torch.tensor(data_matrix.iloc[j,:].values), pad))\n",
    "    k+=1\n",
    "X.shape"
   ]
  },
  {
   "cell_type": "code",
   "execution_count": 11,
   "id": "c3e94889-1204-47f1-9068-3c9949a8fbc1",
   "metadata": {},
   "outputs": [
    {
     "name": "stdout",
     "output_type": "stream",
     "text": [
      "0\n",
      "100\n",
      "200\n",
      "300\n",
      "400\n",
      "500\n",
      "600\n"
     ]
    }
   ],
   "source": [
    "k = 0\n",
    "for i in range(len(data_matrix.columns)):\n",
    "    for j in range(len(data_matrix.index)):\n",
    "        if data_matrix.iloc[j, i]!=0:\n",
    "            Y[k] = torch.tensor(data_matrix.iloc[j, i])\n",
    "            edge_index[2*k] = torch.tensor([i, len(data_matrix.columns)+j-1])\n",
    "            edge_index[2*k+1] = torch.tensor([len(data_matrix.columns)+j-1, i])\n",
    "            k+=1\n",
    "            \n",
    "    if i%100 == 0:\n",
    "        print(i)"
   ]
  },
  {
   "cell_type": "code",
   "execution_count": 12,
   "id": "6834e59b-4559-42a5-baef-b24fc8cf4105",
   "metadata": {},
   "outputs": [],
   "source": [
    "x_tr, x_te, y_tr, y_te  = train_test_split(edge_index[::2], Y)"
   ]
  },
  {
   "cell_type": "code",
   "execution_count": 13,
   "id": "f39b25f0-a387-4b87-8d20-b1e853cca28f",
   "metadata": {},
   "outputs": [],
   "source": [
    "edge_index_train = torch.zeros(x_tr.shape[0]*2, 2)\n",
    "for i, el in enumerate(x_tr):\n",
    "    edge_index_train[2*i] = el\n",
    "    el[0], el[1] = el[1], el[0]\n",
    "    edge_index_train[2*i+1] = el"
   ]
  },
  {
   "cell_type": "code",
   "execution_count": 14,
   "id": "d54fd7af-070e-4cbe-bcc4-311d3c28bad5",
   "metadata": {},
   "outputs": [],
   "source": [
    "edge_index_test = torch.zeros(x_te.shape[0]*2, 2)\n",
    "for i, el in enumerate(x_te):\n",
    "    edge_index_test[2*i] = el\n",
    "    el[0], el[1] = el[1], el[0]\n",
    "    edge_index_test[2*i+1] = el\n",
    "test_data = Data(x = X, edge_index = edge_index_test.t().int())"
   ]
  },
  {
   "cell_type": "markdown",
   "id": "2a39b9d9-86aa-4b57-8c39-6160e779f04f",
   "metadata": {},
   "source": [
    "### Итог: датасет X будет одинаковый для обеих выборок, модель будет учиться предсказывать оценки - ребра графа"
   ]
  },
  {
   "cell_type": "markdown",
   "id": "1f75b35b-1dbc-4ab8-b272-a3b602280fd8",
   "metadata": {},
   "source": [
    "## Строим графофую нейросеть для обмена информацией между разными ребрами графа, далее подаем на обычную полносвязную нейросеть сконкатенированные пары user, item "
   ]
  },
  {
   "cell_type": "code",
   "execution_count": 15,
   "id": "9793aa38-0f60-4de5-af38-2f99173921f4",
   "metadata": {},
   "outputs": [],
   "source": [
    "def get_preds(model, test_data, y_te):\n",
    "    y_pred = model(test_data)\n",
    "    return torch.square(y_pred - y_te).mean().item()"
   ]
  },
  {
   "cell_type": "code",
   "execution_count": 16,
   "id": "82d55f7b-79c7-44a9-8219-5dbcb5e30966",
   "metadata": {},
   "outputs": [],
   "source": [
    "data_set = Data(x=X, edge_index=edge_index_train.t().int())\n",
    "class GNN(nn.Module):\n",
    "    def __init__(self, num_features):\n",
    "        super(GNN, self).__init__()\n",
    "        self.emb = nn.Linear(num_features, 64)\n",
    "        self.conv1 = GCNConv(64, 16)\n",
    "        self.conv2 = GCNConv(16, 16)\n",
    "        self.conv3 = GCNConv(16, 16)\n",
    "        self.conv4 = GCNConv(16, 16)\n",
    "        self.fc1 = nn.Linear(32, 32)\n",
    "\n",
    "        self.fc2 = nn.Linear(32, 1)  # Предсказание вероятности взаимодействия\n",
    "    def forward(self, data):\n",
    "        x, edge_index = data.x, data.edge_index\n",
    "        x = torch.relu(self.emb(x))\n",
    "        x = self.conv1(x, edge_index)\n",
    "        x = torch.relu(x)\n",
    "        x = self.conv2(x, edge_index)\n",
    "        x = torch.relu(x)\n",
    "        x = self.conv3(x, edge_index)\n",
    "        x = torch.relu(x)\n",
    "        x = self.conv4(x, edge_index)\n",
    "\n",
    "        x = torch.relu(x)\n",
    "        res = torch.zeros(int(len(edge_index.t())/2),len(x[0])*2) \n",
    "        k=0\n",
    "        for i, j in edge_index.t()[::2]:\n",
    "            tmp = torch.cat((x[i], x[j]))\n",
    "            res[k] =tmp\n",
    "\n",
    "            k+=1\n",
    "        x = torch.relu(self.fc1(res))\n",
    "        x = self.fc2(x)\n",
    "        return x\n",
    "model = GNN(num_features=data_set.x.size(1))\n",
    "optimizer = optim.Adam(model.parameters(), lr=0.0009)\n",
    "criterion = nn.MSELoss()"
   ]
  },
  {
   "cell_type": "code",
   "execution_count": 17,
   "id": "7016a640-b06b-4a9d-813d-120b153ce714",
   "metadata": {
    "scrolled": true
   },
   "outputs": [],
   "source": [
    "def train(data_set, model, optimizer, criterion, epochs=9):\n",
    "    model.train()\n",
    "    losses = []\n",
    "    test_losses = []\n",
    "    for epoch in trange(epochs):\n",
    "        optimizer.zero_grad()\n",
    "        output = model(data_set)\n",
    "        print(\"end of forward\")\n",
    "        loss = criterion(output.view(-1), y_tr)\n",
    "        print(\"end of loss counting\")\n",
    "\n",
    "        loss.backward()\n",
    "        \n",
    "        optimizer.step()\n",
    "        \n",
    "        losses.append(loss.item())\n",
    "        test_losses.append(get_preds(model, test_data, y_te))\n",
    "\n",
    "        print(f'Epoch {epoch + 1}, Loss: {loss.item():.4f}')\n",
    "        print(f'Epoch {epoch + 1}, Loss: {test_losses[-1]:.4f}')\n",
    "        \n",
    "    return losses, test_losses"
   ]
  },
  {
   "cell_type": "code",
   "execution_count": 18,
   "id": "fdf0ac71-d654-4067-b96a-936d09350193",
   "metadata": {
    "scrolled": true
   },
   "outputs": [
    {
     "data": {
      "application/vnd.jupyter.widget-view+json": {
       "model_id": "b8d842b09e084c96b4d1aeee44fe274b",
       "version_major": 2,
       "version_minor": 0
      },
      "text/plain": [
       "  0%|          | 0/9 [00:00<?, ?it/s]"
      ]
     },
     "metadata": {},
     "output_type": "display_data"
    },
    {
     "name": "stdout",
     "output_type": "stream",
     "text": [
      "end of forward\n",
      "end of loss counting\n",
      "Epoch 1, Loss: 13.0885\n",
      "Epoch 1, Loss: 12.2681\n",
      "end of forward\n",
      "end of loss counting\n",
      "Epoch 2, Loss: 11.6366\n",
      "Epoch 2, Loss: 11.1971\n",
      "end of forward\n",
      "end of loss counting\n",
      "Epoch 3, Loss: 9.9721\n",
      "Epoch 3, Loss: 9.8736\n",
      "end of forward\n",
      "end of loss counting\n",
      "Epoch 4, Loss: 7.9922\n",
      "Epoch 4, Loss: 8.3670\n",
      "end of forward\n",
      "end of loss counting\n",
      "Epoch 5, Loss: 5.8694\n",
      "Epoch 5, Loss: 6.7514\n",
      "end of forward\n",
      "end of loss counting\n",
      "Epoch 6, Loss: 3.8311\n",
      "Epoch 6, Loss: 5.1330\n",
      "end of forward\n",
      "end of loss counting\n",
      "Epoch 7, Loss: 2.2072\n",
      "Epoch 7, Loss: 3.6683\n",
      "end of forward\n",
      "end of loss counting\n",
      "Epoch 8, Loss: 1.4085\n",
      "Epoch 8, Loss: 2.5832\n",
      "end of forward\n",
      "end of loss counting\n",
      "Epoch 9, Loss: 1.7789\n",
      "Epoch 9, Loss: 2.0669\n"
     ]
    }
   ],
   "source": [
    "losses, test_losses = train(data_set, model, optimizer, criterion)"
   ]
  },
  {
   "cell_type": "code",
   "execution_count": 19,
   "id": "931c5543-865e-409b-a172-93cfad91090d",
   "metadata": {},
   "outputs": [
    {
     "data": {
      "image/png": "[encoded data removed]",
      "text/plain": [
       "<Figure size 640x480 with 1 Axes>"
      ]
     },
     "metadata": {},
     "output_type": "display_data"
    }
   ],
   "source": [
    "plt.plot(losses, label='Ошибка на обучающем наборе')\n",
    "plt.plot(test_losses, label='Ошибка на тестовом наборе')\n",
    "\n",
    "# Добавление заголовка и подписей осей\n",
    "plt.title('График ошибки')\n",
    "plt.xlabel('Эпохи')\n",
    "plt.ylabel('Ошибка')\n",
    "\n",
    "# Добавление легенды\n",
    "plt.legend()\n",
    "\n",
    "# Показать график\n",
    "plt.show()"
   ]
  },
  {
   "cell_type": "markdown",
   "id": "b4a59095-a796-465d-8691-de91a689cea8",
   "metadata": {},
   "source": [
    "## Видно, что модель неплохо обучалась, но скорее всего неудачно была выбрана точка старта градиентного спуска, смоделируем еще несколько заупсков на 20 эпох и сохраним веса лучшей модели"
   ]
  },
  {
   "cell_type": "code",
   "execution_count": 20,
   "id": "a2dbd92a-78f6-4a36-8d52-dd1787520186",
   "metadata": {
    "scrolled": true
   },
   "outputs": [],
   "source": [
    "def params_chose(data_set, model, optimizer, criterion, min_loss, epochs, l, best_lr):\n",
    "    model.train()\n",
    "    for epoch in range(epochs):\n",
    "        optimizer.zero_grad()\n",
    "        output = model(data_set)\n",
    "        loss = criterion(output.view(-1), y_tr)\n",
    "\n",
    "        loss.backward()\n",
    "        \n",
    "        optimizer.step()\n",
    "        \n",
    "        losses.append(loss.item())\n",
    "        if get_preds(model, test_data, y_te)<min_loss:\n",
    "            min_loss = get_preds(model, test_data, y_te)\n",
    "            best_lr = l\n",
    "            print(\"new best test loss!\", min_loss)\n",
    "            torch.save(model.state_dict(), 'model_weights.pth')\n",
    "    return min_loss, best_lr\n",
    "        "
   ]
  },
  {
   "cell_type": "code",
   "execution_count": 21,
   "id": "6839455e-4b37-4f8a-a2a7-1b551d246a6f",
   "metadata": {},
   "outputs": [
    {
     "data": {
      "application/vnd.jupyter.widget-view+json": {
       "model_id": "8cba753dff1c4092909bfe6aaa111780",
       "version_major": 2,
       "version_minor": 0
      },
      "text/plain": [
       "  0%|          | 0/15 [00:00<?, ?it/s]"
      ]
     },
     "metadata": {},
     "output_type": "display_data"
    },
    {
     "name": "stdout",
     "output_type": "stream",
     "text": [
      "new best test loss! 13.65408992767334\n",
      "new best test loss! 12.371654510498047\n",
      "new best test loss! 10.630976676940918\n",
      "new best test loss! 8.507401466369629\n",
      "new best test loss! 6.094858169555664\n",
      "new best test loss! 3.8046138286590576\n",
      "new best test loss! 2.3374929428100586\n",
      "new best test loss! 2.0251054763793945\n",
      "new best test loss! 1.9999297857284546\n",
      "new best test loss! 1.9327164888381958\n",
      "new best test loss! 1.8841629028320312\n"
     ]
    }
   ],
   "source": [
    "min_loss = 1e9\n",
    "best_lr = 0 \n",
    "for _ in trange(15):\n",
    "    for l in [0.0009, 0.0005, 0.0003, 0.0002, 0.0001]:\n",
    "        model = GNN(num_features=data_set.x.size(1))\n",
    "        optimizer = optim.Adam(model.parameters(), lr=l)\n",
    "        criterion = nn.MSELoss()\n",
    "        min_loss, best_lr = params_chose(data_set, model, optimizer, criterion,min_loss, 20, l, best_lr)"
   ]
  },
  {
   "cell_type": "code",
   "execution_count": 22,
   "id": "5c7c3b3a-6821-4ef9-bd9c-8f7f5f218e85",
   "metadata": {},
   "outputs": [
    {
     "name": "stderr",
     "output_type": "stream",
     "text": [
      "C:\\Users\\Александр\\AppData\\Local\\Temp\\ipykernel_13132\\3392643588.py:3: FutureWarning: You are using `torch.load` with `weights_only=False` (the current default value), which uses the default pickle module implicitly. It is possible to construct malicious pickle data which will execute arbitrary code during unpickling (See https://github.com/pytorch/pytorch/blob/main/SECURITY.md#untrusted-models for more details). In a future release, the default value for `weights_only` will be flipped to `True`. This limits the functions that could be executed during unpickling. Arbitrary objects will no longer be allowed to be loaded via this mode unless they are explicitly allowlisted by the user via `torch.serialization.add_safe_globals`. We recommend you start setting `weights_only=True` for any use case where you don't have full control of the loaded file. Please open an issue on GitHub for any issues related to this experimental feature.\n",
      "  model.load_state_dict(torch.load('model_weights.pth'))\n"
     ]
    },
    {
     "data": {
      "text/plain": [
       "<All keys matched successfully>"
      ]
     },
     "execution_count": 22,
     "metadata": {},
     "output_type": "execute_result"
    }
   ],
   "source": [
    "model = GNN(num_features=data_set.x.size(1))\n",
    "\n",
    "model.load_state_dict(torch.load('model_weights.pth'))"
   ]
  },
  {
   "cell_type": "code",
   "execution_count": 23,
   "id": "550a821a-a705-4d99-8a97-6ecb80481cfb",
   "metadata": {},
   "outputs": [
    {
     "data": {
      "text/plain": [
       "1.8841629028320312"
      ]
     },
     "execution_count": 23,
     "metadata": {},
     "output_type": "execute_result"
    }
   ],
   "source": [
    "get_preds(model, test_data, y_te)"
   ]
  },
  {
   "cell_type": "code",
   "execution_count": null,
   "id": "086f227b-b126-4f78-b7b8-a2e3a71c3185",
   "metadata": {},
   "outputs": [],
   "source": []
  },
  {
   "cell_type": "markdown",
   "id": "5e5d6ee1-af88-45e9-945f-91a8251762cf",
   "metadata": {},
   "source": [
    "# Подведем итоги проекта:\n",
    "1. Удалось построить GCN для задачи рекомендательной системы фильмов\n",
    "2. С помощью эффективного подбора гиппер-параметров и многократных запусков удалось получить достаточно низкую MSE на тестовой выборке:\n",
    "3. Модель может предсказать оценку для ЛЮБОГО польовтеля и любого фильма из данного набора данных, то есть уже сейчас модель может использоваться для выдачи рекомендаций самым активным пользователям."
   ]
  }
 ],
 "metadata": {
  "kernelspec": {
   "display_name": "Python 3 (ipykernel)",
   "language": "python",
   "name": "python3"
  },
  "language_info": {
   "codemirror_mode": {
    "name": "ipython",
    "version": 3
   },
   "file_extension": ".py",
   "mimetype": "text/x-python",
   "name": "python",
   "nbconvert_exporter": "python",
   "pygments_lexer": "ipython3",
   "version": "3.11.3"
  }
 },
 "nbformat": 4,
 "nbformat_minor": 5
}
